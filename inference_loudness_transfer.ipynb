{
 "cells": [
  {
   "cell_type": "code",
   "execution_count": null,
   "id": "9099fa0b-6e8d-4abd-b497-e2a913780d6e",
   "metadata": {},
   "outputs": [],
   "source": [
    "import torch\n",
    "from dataset_tool import compute_loudness\n",
    "from IPython.display import Audio\n",
    "import pickle\n",
    "import librosa as li\n",
    "from noisebandnet.model import NoiseBandNet\n",
    "import torch.nn.functional as F"
   ]
  },
  {
   "cell_type": "code",
   "execution_count": null,
   "id": "3a23f968-6d9a-4dc1-8dba-4fa6fa676b17",
   "metadata": {},
   "outputs": [],
   "source": [
    "def load_audio(path, fs, max_len, norm=True):\n",
    "    x = li.load(path, sr=fs, mono=True)[0]\n",
    "    if max_len > 0:\n",
    "        if len(x)>max_len:\n",
    "            x = x[:max_len]\n",
    "    if norm:\n",
    "        x = li.util.normalize(x)\n",
    "    return x"
   ]
  },
  {
   "cell_type": "code",
   "execution_count": null,
   "id": "d0f0c594-a13b-47bd-ba6d-d1d17a137a81",
   "metadata": {},
   "outputs": [],
   "source": [
    "device = 'cuda'\n",
    "\n",
    "TRAIN_PATH = 'trained_models/metal'\n",
    "MODEL_PATH = f'{TRAIN_PATH}/model_10000.ckpt'\n",
    "CONFIG_PATH = f'{TRAIN_PATH}/config.pickle'\n",
    "\n",
    "#path to the target loudness sound\n",
    "TARGET_LOUDNESS_AUDIO_PATH = 'inference_sounds/beatbox.wav'\n",
    "\n",
    "with (open(CONFIG_PATH, \"rb\")) as f:\n",
    "    config = pickle.load(f)\n",
    "FS = config.sampling_rate\n",
    "\n",
    "x_audio = load_audio(path=TARGET_LOUDNESS_AUDIO_PATH, fs=FS, max_len=2**19)\n",
    "x_audio = torch.from_numpy(x_audio).unsqueeze(0)\n",
    "Audio(x_audio[0], rate=FS)"
   ]
  },
  {
   "cell_type": "code",
   "execution_count": null,
   "id": "da26adec-a018-4a80-941a-a31d380aa701",
   "metadata": {},
   "outputs": [],
   "source": [
    "synth = NoiseBandNet(hidden_size=config.hidden_size, n_band=config.n_band, synth_window=config.synth_window, n_control_params=config.n_control_params).to(device).float()"
   ]
  },
  {
   "cell_type": "code",
   "execution_count": null,
   "id": "09214b51-6c73-40d3-a1e0-e6bc643582af",
   "metadata": {},
   "outputs": [],
   "source": [
    "synth.load_state_dict(torch.load(MODEL_PATH))"
   ]
  },
  {
   "cell_type": "code",
   "execution_count": null,
   "id": "1cdcfb4c-56fe-4a6f-8c8e-cc34e4c54fb2",
   "metadata": {},
   "outputs": [],
   "source": [
    "loudness, _, _ = compute_loudness(audio_data=x_audio, sampling_rate=FS)\n",
    "#user-defined scaling\n",
    "#loudness += 0.1\n",
    "loudness = loudness.unsqueeze(0).float()\n",
    "loudness = F.interpolate(input=loudness, scale_factor=1/config.synth_window, mode='linear').permute(0,2,1).float()\n",
    "control_params = [loudness.to(device)]\n",
    "\n",
    "with torch.no_grad():\n",
    "    y_audio = synth(control_params)\n",
    "Audio(y_audio[0].detach().cpu().numpy(), rate=FS)"
   ]
  },
  {
   "cell_type": "code",
   "execution_count": null,
   "id": "4863acf2-1f50-40d3-8b12-6fa42f670cd1",
   "metadata": {},
   "outputs": [],
   "source": [
    "mixed_audio = ((x_audio[...,:y_audio[0].shape[-1]])+(y_audio[0].detach().cpu().numpy()))/2\n",
    "Audio(mixed_audio[0].detach().cpu().numpy(), rate=FS)"
   ]
  }
 ],
 "metadata": {
  "kernelspec": {
   "display_name": "Python 3 (ipykernel)",
   "language": "python",
   "name": "python3"
  },
  "language_info": {
   "codemirror_mode": {
    "name": "ipython",
    "version": 3
   },
   "file_extension": ".py",
   "mimetype": "text/x-python",
   "name": "python",
   "nbconvert_exporter": "python",
   "pygments_lexer": "ipython3",
   "version": "3.9.17"
  }
 },
 "nbformat": 4,
 "nbformat_minor": 5
}
